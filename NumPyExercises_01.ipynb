{
  "nbformat": 4,
  "nbformat_minor": 0,
  "metadata": {
    "colab": {
      "name": "NumPyExercises_01.ipynb",
      "provenance": [],
      "collapsed_sections": [
        "ScybyK4tRd5z",
        "4WPdcqmBRLH7",
        "5TmpbnWLRQPm",
        "FhQcKc62RztY",
        "FFeLxxDHYdaZ"
      ]
    },
    "kernelspec": {
      "name": "python3",
      "display_name": "Python 3"
    }
  },
  "cells": [
    {
      "cell_type": "code",
      "metadata": {
        "id": "UK6FKrQvnyvc",
        "colab_type": "code",
        "colab": {}
      },
      "source": [
        "import numpy as np"
      ],
      "execution_count": 1,
      "outputs": []
    },
    {
      "cell_type": "markdown",
      "metadata": {
        "id": "x372HtpBOI8b",
        "colab_type": "text"
      },
      "source": [
        "In these exercises, where possible, try to utilize the available numpy functionality rather than native python code."
      ]
    },
    {
      "cell_type": "markdown",
      "metadata": {
        "id": "Hj89Mhdxo4HG",
        "colab_type": "text"
      },
      "source": [
        "# Exercise 1. \n",
        "\n"
      ]
    },
    {
      "cell_type": "markdown",
      "metadata": {
        "id": "t7OQpnRPTQH9",
        "colab_type": "text"
      },
      "source": [
        "Consider the $3\\times 5$ array a3by5 created below."
      ]
    },
    {
      "cell_type": "code",
      "metadata": {
        "id": "7-C2xtfQn7wm",
        "colab_type": "code",
        "colab": {
          "base_uri": "https://localhost:8080/",
          "height": 69
        },
        "outputId": "87c70128-2e39-44da-8af2-99ba4a208f1f"
      },
      "source": [
        "a3by5 = np.random.random((3,5))\n",
        "a3by5"
      ],
      "execution_count": 2,
      "outputs": [
        {
          "output_type": "execute_result",
          "data": {
            "text/plain": [
              "array([[0.15709767, 0.02751046, 0.95941507, 0.51932666, 0.34591179],\n",
              "       [0.59388649, 0.43782484, 0.3089075 , 0.17557081, 0.1485992 ],\n",
              "       [0.84625706, 0.7329847 , 0.33740307, 0.79575042, 0.93520238]])"
            ]
          },
          "metadata": {
            "tags": []
          },
          "execution_count": 2
        }
      ]
    },
    {
      "cell_type": "markdown",
      "metadata": {
        "id": "fN7NkTs9pEvP",
        "colab_type": "text"
      },
      "source": [
        "Flatten it and sort the list.\n"
      ]
    },
    {
      "cell_type": "markdown",
      "metadata": {
        "id": "Pi6Us9m9peCT",
        "colab_type": "text"
      },
      "source": [
        "# Exercise 2.\n"
      ]
    },
    {
      "cell_type": "markdown",
      "metadata": {
        "id": "EHl1-nllqczu",
        "colab_type": "text"
      },
      "source": [
        "Consider the arrays x, y and z below."
      ]
    },
    {
      "cell_type": "code",
      "metadata": {
        "id": "M-9h0_qrrETE",
        "colab_type": "code",
        "colab": {}
      },
      "source": [
        "x = np.array([-4, -3, -2, -1, 1, 2, 3, 4])\n",
        "y = np.array([-3, -2, -1, 0, 1, 2, 3])\n",
        "z = np.array([0, 0, 0, 0])"
      ],
      "execution_count": 4,
      "outputs": []
    },
    {
      "cell_type": "markdown",
      "metadata": {
        "id": "a_axeFpUrD4y",
        "colab_type": "text"
      },
      "source": [
        "I. Write some code to test whether \n",
        "\n",
        "1. at least one of the elements in the array is non-zero.\n",
        "2. all of the elements in the array are non-zero.\n",
        "3. at least one of the elements in the array is equal to zero.  \n",
        "\n",
        "and apply it to each of the three arrays.\n",
        "\n",
        "II. Add 5 to every positive entry in each array."
      ]
    },
    {
      "cell_type": "markdown",
      "metadata": {
        "id": "4BGBV-ynTifC",
        "colab_type": "text"
      },
      "source": [
        "# Exercise 3"
      ]
    },
    {
      "cell_type": "markdown",
      "metadata": {
        "id": "d0y1-ieNTlDl",
        "colab_type": "text"
      },
      "source": [
        "Consider the Pauli matrices defined below.\n",
        "\n",
        "1. Verify that they are traceless\n",
        "2. Verify that they have determinants -1.\n",
        "3. Verify that they are Hermitian.\n",
        "4. Verify that they are unitary.\n",
        "5. Verify the SU(2) algebra, i.e., the commutation relations among the Pauli matrices. If you don't remember the formulas, derive them.\n"
      ]
    },
    {
      "cell_type": "code",
      "metadata": {
        "id": "KKieoaw2U3dd",
        "colab_type": "code",
        "colab": {
          "base_uri": "https://localhost:8080/",
          "height": 121
        },
        "outputId": "fab6fcfa-72f1-4035-9ae3-c00f8cb2bc63"
      },
      "source": [
        "sigX = np.matrix([[0+0j,1+0j],[1+0j,0+0j]])\n",
        "sigY = np.matrix([[0+0j,0-1j],[0+1j,0+0j]])\n",
        "sigZ = np.matrix([[1+0j,0+0j],[0+0j,-1+0j]])\n",
        "print(sigX) \n",
        "print(sigY)\n",
        "print(sigZ)"
      ],
      "execution_count": 32,
      "outputs": [
        {
          "output_type": "stream",
          "text": [
            "[[0.+0.j 1.+0.j]\n",
            " [1.+0.j 0.+0.j]]\n",
            "[[0.+0.j 0.-1.j]\n",
            " [0.+1.j 0.+0.j]]\n",
            "[[ 1.+0.j  0.+0.j]\n",
            " [ 0.+0.j -1.+0.j]]\n"
          ],
          "name": "stdout"
        }
      ]
    },
    {
      "cell_type": "markdown",
      "metadata": {
        "id": "ScybyK4tRd5z",
        "colab_type": "text"
      },
      "source": [
        "# End of the exercises"
      ]
    },
    {
      "cell_type": "markdown",
      "metadata": {
        "id": "4WPdcqmBRLH7",
        "colab_type": "text"
      },
      "source": [
        "## Solutions"
      ]
    },
    {
      "cell_type": "markdown",
      "metadata": {
        "id": "5TmpbnWLRQPm",
        "colab_type": "text"
      },
      "source": [
        "### Exercise 1"
      ]
    },
    {
      "cell_type": "code",
      "metadata": {
        "id": "mzRzNgZSpxSB",
        "colab_type": "code",
        "colab": {
          "base_uri": "https://localhost:8080/",
          "height": 121
        },
        "outputId": "0c1ea05b-2ccf-49e4-dabd-9b1f0b6881a9"
      },
      "source": [
        "a3by5 = np.random.random((3,5))\n",
        "print(a3by5)\n",
        "\n",
        "print(np.sort(a3by5, axis=None))"
      ],
      "execution_count": 12,
      "outputs": [
        {
          "output_type": "stream",
          "text": [
            "[[0.46191155 0.31315343 0.49754762 0.73900679 0.38005595]\n",
            " [0.8228595  0.00234374 0.58786674 0.11546514 0.88952217]\n",
            " [0.66410259 0.31486303 0.85561344 0.81522911 0.60800278]]\n",
            "[0.00234374 0.11546514 0.31315343 0.31486303 0.38005595 0.46191155\n",
            " 0.49754762 0.58786674 0.60800278 0.66410259 0.73900679 0.81522911\n",
            " 0.8228595  0.85561344 0.88952217]\n"
          ],
          "name": "stdout"
        }
      ]
    },
    {
      "cell_type": "markdown",
      "metadata": {
        "id": "FhQcKc62RztY",
        "colab_type": "text"
      },
      "source": [
        "### Exercise 2"
      ]
    },
    {
      "cell_type": "code",
      "metadata": {
        "id": "md0gAhLCrgc3",
        "colab_type": "code",
        "colab": {
          "base_uri": "https://localhost:8080/",
          "height": 173
        },
        "outputId": "dd094cfe-9b7b-478e-d383-f86600a23de7"
      },
      "source": [
        "x = np.array([-4, -3, -2, -1, 1, 2, 3, 4])\n",
        "y = np.array([-3, -2, -1, 0, 1, 2, 3])\n",
        "z = np.array([0, 0, 0, 0])\n",
        "\n",
        "print('at least one non-zero element in x = ', np.any(x))\n",
        "print('at least one non-zero element in y = ', np.any(y))\n",
        "print('at least one non-zero element in z = ', np.any(z))\n",
        "print('zero is absent in x = ', np.all(x))\n",
        "print('zero is absent in y = ', np.all(y))\n",
        "print('zero is absent in z = ', np.all(z))\n",
        "print('at least one zero element in x = ', np.any(x==0))\n",
        "print('at least one zero element in y = ', np.any(y==0))\n",
        "print('at least one zero element in z = ', np.any(z==0))"
      ],
      "execution_count": 10,
      "outputs": [
        {
          "output_type": "stream",
          "text": [
            "at least one non-zero element in x =  True\n",
            "at least one non-zero element in y =  True\n",
            "at least one non-zero element in z =  False\n",
            "zero is absent in x =  True\n",
            "zero is absent in y =  False\n",
            "zero is absent in z =  False\n",
            "at least one zero element in x =  False\n",
            "at least one zero element in y =  True\n",
            "at least one zero element in z =  True\n"
          ],
          "name": "stdout"
        }
      ]
    },
    {
      "cell_type": "markdown",
      "metadata": {
        "id": "FFeLxxDHYdaZ",
        "colab_type": "text"
      },
      "source": [
        "### Exercise 3"
      ]
    },
    {
      "cell_type": "code",
      "metadata": {
        "id": "Dq_J-UtHYfre",
        "colab_type": "code",
        "colab": {
          "base_uri": "https://localhost:8080/",
          "height": 155
        },
        "outputId": "d580ea60-0b81-4a2f-9b20-dc5b7c25fab4"
      },
      "source": [
        "print('Traces:       ', np.trace(sigX), np.trace(sigY), np.trace(sigZ))\n",
        "print('Determinants: ', np.linalg.det(sigX), np.linalg.det(sigY), np.linalg.det(sigZ))\n",
        "print('sigmaX is Hermitian = ', np.all(sigX-sigX.H==0))\n",
        "print('sigmaY is Hermitian = ', np.all(sigY-sigY.H==0))\n",
        "print('sigmaZ is Hermitian = ', np.all(sigZ-sigZ.H==0))\n",
        "print('[X,Y]=2iZ           = ', np.all(np.dot(sigX,sigY)-np.dot(sigY,sigX)-2j*sigZ==0))\n",
        "print('[Y,Z]=2iX           = ', np.all(np.dot(sigY,sigZ)-np.dot(sigZ,sigY)-2j*sigX==0))\n",
        "print('[Z,X]=2iY           = ', np.all(np.dot(sigZ,sigX)-np.dot(sigX,sigZ)-2j*sigY==0))"
      ],
      "execution_count": 48,
      "outputs": [
        {
          "output_type": "stream",
          "text": [
            "Traces:        0j 0j 0j\n",
            "Determinants:  (-1+0j) (-1+0j) (-1+0j)\n",
            "sigmaX is Hermitian =  True\n",
            "sigmaY is Hermitian =  True\n",
            "sigmaZ is Hermitian =  True\n",
            "[X,Y]=2iZ           =  True\n",
            "[Y,Z]=2iX           =  True\n",
            "[Z,X]=2iY           =  True\n"
          ],
          "name": "stdout"
        }
      ]
    },
    {
      "cell_type": "code",
      "metadata": {
        "id": "mjMM7xaxaAIK",
        "colab_type": "code",
        "colab": {}
      },
      "source": [
        ""
      ],
      "execution_count": null,
      "outputs": []
    }
  ]
}